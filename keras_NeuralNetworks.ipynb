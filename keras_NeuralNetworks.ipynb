{
  "nbformat": 4,
  "nbformat_minor": 0,
  "metadata": {
    "colab": {
      "name": "keras_NeuralNetworks.ipynb",
      "version": "0.3.2",
      "provenance": [],
      "include_colab_link": true
    },
    "kernelspec": {
      "name": "python3",
      "display_name": "Python 3"
    }
  },
  "cells": [
    {
      "cell_type": "markdown",
      "metadata": {
        "id": "view-in-github",
        "colab_type": "text"
      },
      "source": [
        "<a href=\"https://colab.research.google.com/github/JosseArturo/Keras-Module-Udacity/blob/master/keras_NeuralNetworks.ipynb\" target=\"_parent\"><img src=\"https://colab.research.google.com/assets/colab-badge.svg\" alt=\"Open In Colab\"/></a>"
      ]
    },
    {
      "metadata": {
        "id": "gRSo3Xk48Irl",
        "colab_type": "code",
        "colab": {}
      },
      "cell_type": "code",
      "source": [
        "import pickle\n",
        "import numpy as np\n",
        "import tensorflow as tf\n",
        "\n",
        "# Load pickled data\n",
        "with open('small_train_traffic.p', mode='rb') as f:\n",
        "    data = pickle.load(f)\n",
        "    \n",
        "\n",
        "batch_size = 128\n",
        "num_classes = 5\n",
        "epochs = 3"
      ],
      "execution_count": 0,
      "outputs": []
    },
    {
      "metadata": {
        "id": "tK5u7yJI8KJu",
        "colab_type": "code",
        "colab": {}
      },
      "cell_type": "code",
      "source": [
        "# split data\n",
        "X_train, y_train = data['features'], data['labels']"
      ],
      "execution_count": 0,
      "outputs": []
    },
    {
      "metadata": {
        "id": "JWAu4rzh8M2-",
        "colab_type": "code",
        "colab": {}
      },
      "cell_type": "code",
      "source": [
        "# Setup Keras\n",
        "from keras.models import Sequential\n",
        "from keras.layers.core import Dense, Activation, Flatten"
      ],
      "execution_count": 0,
      "outputs": []
    },
    {
      "metadata": {
        "id": "j8vCGyfE8PYr",
        "colab_type": "code",
        "colab": {}
      },
      "cell_type": "code",
      "source": [
        "# TODO: Build the Fully Connected Neural Network in Keras Here\n",
        "model = Sequential()\n",
        "\n",
        "#1st Layer - Add a flatten layer\n",
        "model.add(Flatten(input_shape=(32, 32, 3)))\n",
        "\n",
        "#2nd Layer - Add a fully connected layer\n",
        "model.add(Dense(128))\n",
        "\n",
        "#3rd Layer - Add a ReLU activation layer\n",
        "model.add(Activation('relu'))\n",
        "\n",
        "#4th Layer - Add a fully connected layer\n",
        "model.add(Dense(num_classes, activation='softmax'))\n",
        "\n",
        "model.summary()\n"
      ],
      "execution_count": 0,
      "outputs": []
    },
    {
      "metadata": {
        "id": "iKBicRMB8SXo",
        "colab_type": "code",
        "colab": {}
      },
      "cell_type": "code",
      "source": [
        "# preprocess data\n",
        "X_normalized = np.array(X_train / 255.0 - 0.5 )\n",
        "\n",
        "from sklearn.preprocessing import LabelBinarizer\n",
        "label_binarizer = LabelBinarizer()\n",
        "y_one_hot = label_binarizer.fit_transform(y_train)\n",
        "\n",
        "model.compile('adam', 'categorical_crossentropy', ['accuracy'])\n",
        "# TODO: change the number of training epochs to 3\n",
        "history = model.fit(X_normalized, y_one_hot, epochs = 3, validation_split=0.2)"
      ],
      "execution_count": 0,
      "outputs": []
    }
  ]
}